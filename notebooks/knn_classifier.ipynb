{
 "cells": [
  {
   "cell_type": "code",
   "execution_count": 60,
   "id": "e4ea5f44-da0c-4128-82e6-0907d972c3ec",
   "metadata": {},
   "outputs": [],
   "source": [
    "import pandas as pd\n",
    "from sklearn.feature_extraction.text import TfidfVectorizer\n",
    "from sklearn.pipeline import Pipeline\n",
    "from sklearn.model_selection import train_test_split\n",
    "from sklearn.neighbors import KNeighborsClassifier\n",
    "from sklearn.inspection import DecisionBoundaryDisplay\n",
    "from sklearn.model_selection import RandomizedSearchCV\n",
    "from matplotlib.colors import ListedColormap\n",
    "import matplotlib.pyplot as plt\n",
    "import seaborn as sns\n"
   ]
  },
  {
   "cell_type": "markdown",
   "id": "9a86f85c-ed1e-4b5b-9530-8396e6d8e632",
   "metadata": {},
   "source": [
    "concat datasets and process them a bit"
   ]
  },
  {
   "cell_type": "code",
   "execution_count": 52,
   "id": "aad6e16a-ffc7-4277-8ece-ff2f3ea750b6",
   "metadata": {},
   "outputs": [
    {
     "data": {
      "text/html": [
       "<div>\n",
       "<style scoped>\n",
       "    .dataframe tbody tr th:only-of-type {\n",
       "        vertical-align: middle;\n",
       "    }\n",
       "\n",
       "    .dataframe tbody tr th {\n",
       "        vertical-align: top;\n",
       "    }\n",
       "\n",
       "    .dataframe thead th {\n",
       "        text-align: right;\n",
       "    }\n",
       "</style>\n",
       "<table border=\"1\" class=\"dataframe\">\n",
       "  <thead>\n",
       "    <tr style=\"text-align: right;\">\n",
       "      <th></th>\n",
       "      <th>category</th>\n",
       "      <th>text</th>\n",
       "      <th>source</th>\n",
       "    </tr>\n",
       "  </thead>\n",
       "  <tbody>\n",
       "    <tr>\n",
       "      <th>0</th>\n",
       "      <td>1</td>\n",
       "      <td>family mormon have never tried explain them t...</td>\n",
       "      <td>reddit</td>\n",
       "    </tr>\n",
       "    <tr>\n",
       "      <th>1</th>\n",
       "      <td>1</td>\n",
       "      <td>buddhism has very much lot compatible with chr...</td>\n",
       "      <td>reddit</td>\n",
       "    </tr>\n",
       "    <tr>\n",
       "      <th>2</th>\n",
       "      <td>0</td>\n",
       "      <td>seriously don say thing first all they won get...</td>\n",
       "      <td>reddit</td>\n",
       "    </tr>\n",
       "    <tr>\n",
       "      <th>4</th>\n",
       "      <td>1</td>\n",
       "      <td>for your own benefit you may want read living ...</td>\n",
       "      <td>reddit</td>\n",
       "    </tr>\n",
       "    <tr>\n",
       "      <th>5</th>\n",
       "      <td>0</td>\n",
       "      <td>you should all sit down together and watch the...</td>\n",
       "      <td>reddit</td>\n",
       "    </tr>\n",
       "    <tr>\n",
       "      <th>...</th>\n",
       "      <td>...</td>\n",
       "      <td>...</td>\n",
       "      <td>...</td>\n",
       "    </tr>\n",
       "    <tr>\n",
       "      <th>995</th>\n",
       "      <td>0</td>\n",
       "      <td>I think food should have flavor and texture an...</td>\n",
       "      <td>restaurant</td>\n",
       "    </tr>\n",
       "    <tr>\n",
       "      <th>996</th>\n",
       "      <td>0</td>\n",
       "      <td>Appetite instantly gone.</td>\n",
       "      <td>restaurant</td>\n",
       "    </tr>\n",
       "    <tr>\n",
       "      <th>997</th>\n",
       "      <td>0</td>\n",
       "      <td>Overall I was not impressed and would not go b...</td>\n",
       "      <td>restaurant</td>\n",
       "    </tr>\n",
       "    <tr>\n",
       "      <th>998</th>\n",
       "      <td>0</td>\n",
       "      <td>The whole experience was underwhelming, and I ...</td>\n",
       "      <td>restaurant</td>\n",
       "    </tr>\n",
       "    <tr>\n",
       "      <th>999</th>\n",
       "      <td>0</td>\n",
       "      <td>Then, as if I hadn't wasted enough of my life ...</td>\n",
       "      <td>restaurant</td>\n",
       "    </tr>\n",
       "  </tbody>\n",
       "</table>\n",
       "<p>118161 rows × 3 columns</p>\n",
       "</div>"
      ],
      "text/plain": [
       "     category                                               text      source\n",
       "0           1   family mormon have never tried explain them t...      reddit\n",
       "1           1  buddhism has very much lot compatible with chr...      reddit\n",
       "2           0  seriously don say thing first all they won get...      reddit\n",
       "4           1  for your own benefit you may want read living ...      reddit\n",
       "5           0  you should all sit down together and watch the...      reddit\n",
       "..        ...                                                ...         ...\n",
       "995         0  I think food should have flavor and texture an...  restaurant\n",
       "996         0                           Appetite instantly gone.  restaurant\n",
       "997         0  Overall I was not impressed and would not go b...  restaurant\n",
       "998         0  The whole experience was underwhelming, and I ...  restaurant\n",
       "999         0  Then, as if I hadn't wasted enough of my life ...  restaurant\n",
       "\n",
       "[118161 rows x 3 columns]"
      ]
     },
     "execution_count": 52,
     "metadata": {},
     "output_type": "execute_result"
    }
   ],
   "source": [
    "reddit = pd.read_csv('data/processed/reddit.csv')\n",
    "twitter = pd.read_csv('data/processed/twitter.csv')\n",
    "res = pd.read_csv('data/raw/Restaurant_Reviews.tsv', delimiter='\\t')\n",
    "\n",
    "reddit['text'] = reddit['clean_comment']\n",
    "reddit = reddit.drop('clean_comment', axis=1)\n",
    "\n",
    "twitter['text'] = twitter['clean_text']\n",
    "twitter = twitter.drop('clean_text', axis=1)\n",
    "\n",
    "res['text'] = res['Review']\n",
    "res = res.drop('Review', axis=1)\n",
    "\n",
    "res['category'] = res['Liked']\n",
    "res = res.drop('Liked', axis=1)\n",
    "\n",
    "## the datasets have different values for positve and negative so let's fix that:\n",
    "## positive = 1\n",
    "## negative = 0\n",
    "\n",
    "\n",
    "## first drop neutral columns\n",
    "reddit = reddit[reddit['category'] != 0]\n",
    "twitter = twitter[twitter['category'] != 0]\n",
    "\n",
    "\n",
    "\n",
    "# ## now change -1 to zero\n",
    "reddit.loc[reddit['category'] == -1, 'category'] = 0\n",
    "twitter.loc[twitter['category'] == -1, 'category'] = 0\n",
    "\n",
    "## add a source column\n",
    "reddit['source'] = 'reddit'\n",
    "twitter['source'] = 'twitter'\n",
    "res['source'] = 'restaurant'\n",
    "\n",
    "## concat the dataframes and process to get rid of null values\n",
    "df = pd.concat([reddit, twitter, res])\n",
    "df = df[df['category'].notna()]\n",
    "df = df[df['text'].notna()]\n",
    "df = df[df['source'].notna()]\n",
    "df = df[df['text'].map(lambda x: x.isascii())] ## only process asci characters\n",
    "df['category'] = df['category'].astype(int)\n",
    "df\n",
    "\n"
   ]
  },
  {
   "cell_type": "markdown",
   "id": "e4a61eb3-d143-47ae-aaf8-374c83109cfb",
   "metadata": {},
   "source": [
    "train, test split this stuff"
   ]
  },
  {
   "cell_type": "code",
   "execution_count": 53,
   "id": "9010b43c-9d71-42e1-9776-4db394900d20",
   "metadata": {},
   "outputs": [
    {
     "data": {
      "text/html": [
       "<div>\n",
       "<style scoped>\n",
       "    .dataframe tbody tr th:only-of-type {\n",
       "        vertical-align: middle;\n",
       "    }\n",
       "\n",
       "    .dataframe tbody tr th {\n",
       "        vertical-align: top;\n",
       "    }\n",
       "\n",
       "    .dataframe thead th {\n",
       "        text-align: right;\n",
       "    }\n",
       "</style>\n",
       "<table border=\"1\" class=\"dataframe\">\n",
       "  <thead>\n",
       "    <tr style=\"text-align: right;\">\n",
       "      <th></th>\n",
       "      <th>category</th>\n",
       "      <th>text</th>\n",
       "      <th>source</th>\n",
       "    </tr>\n",
       "  </thead>\n",
       "  <tbody>\n",
       "    <tr>\n",
       "      <th>146074</th>\n",
       "      <td>0</td>\n",
       "      <td>upa government years twice long ramp pathetic ...</td>\n",
       "      <td>twitter</td>\n",
       "    </tr>\n",
       "    <tr>\n",
       "      <th>80569</th>\n",
       "      <td>1</td>\n",
       "      <td>training under pmkvy scheme conducted gram tar...</td>\n",
       "      <td>twitter</td>\n",
       "    </tr>\n",
       "    <tr>\n",
       "      <th>111091</th>\n",
       "      <td>0</td>\n",
       "      <td>the group has signed letter indian prime minis...</td>\n",
       "      <td>twitter</td>\n",
       "    </tr>\n",
       "    <tr>\n",
       "      <th>59109</th>\n",
       "      <td>0</td>\n",
       "      <td>seriously never said anything about credit and...</td>\n",
       "      <td>twitter</td>\n",
       "    </tr>\n",
       "    <tr>\n",
       "      <th>95428</th>\n",
       "      <td>0</td>\n",
       "      <td>people india support the person who has brough...</td>\n",
       "      <td>twitter</td>\n",
       "    </tr>\n",
       "  </tbody>\n",
       "</table>\n",
       "</div>"
      ],
      "text/plain": [
       "        category                                               text   source\n",
       "146074         0  upa government years twice long ramp pathetic ...  twitter\n",
       "80569          1  training under pmkvy scheme conducted gram tar...  twitter\n",
       "111091         0  the group has signed letter indian prime minis...  twitter\n",
       "59109          0  seriously never said anything about credit and...  twitter\n",
       "95428          0  people india support the person who has brough...  twitter"
      ]
     },
     "execution_count": 53,
     "metadata": {},
     "output_type": "execute_result"
    }
   ],
   "source": [
    "train, test = train_test_split(df, shuffle=True, test_size=.4)\n",
    "train.head()"
   ]
  },
  {
   "cell_type": "code",
   "execution_count": 54,
   "id": "71f8a590-9085-44b5-8564-b75582e93b03",
   "metadata": {},
   "outputs": [
    {
     "data": {
      "text/html": [
       "<div>\n",
       "<style scoped>\n",
       "    .dataframe tbody tr th:only-of-type {\n",
       "        vertical-align: middle;\n",
       "    }\n",
       "\n",
       "    .dataframe tbody tr th {\n",
       "        vertical-align: top;\n",
       "    }\n",
       "\n",
       "    .dataframe thead th {\n",
       "        text-align: right;\n",
       "    }\n",
       "</style>\n",
       "<table border=\"1\" class=\"dataframe\">\n",
       "  <thead>\n",
       "    <tr style=\"text-align: right;\">\n",
       "      <th></th>\n",
       "      <th>category</th>\n",
       "      <th>text</th>\n",
       "      <th>source</th>\n",
       "    </tr>\n",
       "  </thead>\n",
       "  <tbody>\n",
       "    <tr>\n",
       "      <th>29560</th>\n",
       "      <td>1</td>\n",
       "      <td>has not any thing good any constituency got se...</td>\n",
       "      <td>twitter</td>\n",
       "    </tr>\n",
       "    <tr>\n",
       "      <th>35122</th>\n",
       "      <td>1</td>\n",
       "      <td>yes strongly believe that strongly being the k...</td>\n",
       "      <td>reddit</td>\n",
       "    </tr>\n",
       "    <tr>\n",
       "      <th>159745</th>\n",
       "      <td>0</td>\n",
       "      <td>mallya hasnt runaway from india why afraid bac...</td>\n",
       "      <td>twitter</td>\n",
       "    </tr>\n",
       "    <tr>\n",
       "      <th>96963</th>\n",
       "      <td>0</td>\n",
       "      <td>every time modi says something insecure khangr...</td>\n",
       "      <td>twitter</td>\n",
       "    </tr>\n",
       "    <tr>\n",
       "      <th>121001</th>\n",
       "      <td>1</td>\n",
       "      <td>holi and diwali have never been celebrated pak...</td>\n",
       "      <td>twitter</td>\n",
       "    </tr>\n",
       "  </tbody>\n",
       "</table>\n",
       "</div>"
      ],
      "text/plain": [
       "        category                                               text   source\n",
       "29560          1  has not any thing good any constituency got se...  twitter\n",
       "35122          1  yes strongly believe that strongly being the k...   reddit\n",
       "159745         0  mallya hasnt runaway from india why afraid bac...  twitter\n",
       "96963          0  every time modi says something insecure khangr...  twitter\n",
       "121001         1  holi and diwali have never been celebrated pak...  twitter"
      ]
     },
     "execution_count": 54,
     "metadata": {},
     "output_type": "execute_result"
    }
   ],
   "source": [
    "test.head()"
   ]
  },
  {
   "cell_type": "code",
   "execution_count": 55,
   "id": "3785a859-8818-408d-aa09-8246d56b0bbe",
   "metadata": {},
   "outputs": [
    {
     "data": {
      "text/plain": [
       "70896"
      ]
     },
     "execution_count": 55,
     "metadata": {},
     "output_type": "execute_result"
    }
   ],
   "source": [
    "len(train['text'])"
   ]
  },
  {
   "cell_type": "markdown",
   "id": "85bb4afe-b59c-442d-ac29-6aa01e1ab460",
   "metadata": {},
   "source": [
    "let's slap this into a tfidf vectorizer now, the tfidf vectorizer stands for term-frequency inverse document frequency. It's measures how relavent a term is to a specific document.The algoithm outputs a number that increases every time a term shows up in a document but decreases based on the number of documents it shows up in.  For example if the word \"cat\" appears many times in a few documents, it is probably very relevant. But if it appears many times in all documents it is probably not very relevant."
   ]
  },
  {
   "cell_type": "markdown",
   "id": "131cb84b-91f7-4a85-a46c-a08fda908589",
   "metadata": {},
   "source": [
    "Like most estimators in scikit-learn, a TfidfVectorizer uses a fit and transform function. Fit to learn the data and trasnform to output a sparse matrix: X of tfidf vectorized data"
   ]
  },
  {
   "cell_type": "code",
   "execution_count": 31,
   "id": "63203ed5-ae51-484e-ac53-ef9fc5b4dcd1",
   "metadata": {},
   "outputs": [
    {
     "data": {
      "text/plain": [
       "array(['000', '100', '1000', ..., 'zoom', 'zuckerberg', 'zyada'],\n",
       "      dtype=object)"
      ]
     },
     "execution_count": 31,
     "metadata": {},
     "output_type": "execute_result"
    }
   ],
   "source": [
    "vect = TfidfVectorizer(stop_words='english', min_df=5, max_df=.3)\n",
    "X = vect.fit_transform(train['text'])\n",
    "vect.get_feature_names_out()"
   ]
  },
  {
   "cell_type": "markdown",
   "id": "adeb4619-e084-467a-a598-205816a0eb81",
   "metadata": {},
   "source": [
    "`X` is `(n_samples, n_featues)`, so this matrix is 70896 rows and 70858 columns"
   ]
  },
  {
   "cell_type": "code",
   "execution_count": 32,
   "id": "42da9df9-6ce2-471d-9657-37e05195726e",
   "metadata": {},
   "outputs": [
    {
     "data": {
      "text/plain": [
       "(70896, 15059)"
      ]
     },
     "execution_count": 32,
     "metadata": {},
     "output_type": "execute_result"
    }
   ],
   "source": [
    "X.shape"
   ]
  },
  {
   "cell_type": "code",
   "execution_count": 33,
   "id": "718666ec-2061-4dd2-b4f7-ccda183b0ba4",
   "metadata": {},
   "outputs": [
    {
     "data": {
      "text/plain": [
       "<70896x2 sparse matrix of type '<class 'numpy.float64'>'\n",
       "\twith 526 stored elements in Compressed Sparse Row format>"
      ]
     },
     "execution_count": 33,
     "metadata": {},
     "output_type": "execute_result"
    }
   ],
   "source": [
    "X[:,:2]"
   ]
  },
  {
   "cell_type": "markdown",
   "id": "4d351b4e-4753-4479-b676-5af0ca5977af",
   "metadata": {},
   "source": [
    "Now we train a `KNeighborsClassifier` with the matrix `X` created from fitting the vectorizer"
   ]
  },
  {
   "cell_type": "code",
   "execution_count": 34,
   "id": "8f049ced-71cf-44de-a495-6d7850330825",
   "metadata": {},
   "outputs": [
    {
     "data": {
      "text/html": [
       "<style>#sk-container-id-3 {color: black;background-color: white;}#sk-container-id-3 pre{padding: 0;}#sk-container-id-3 div.sk-toggleable {background-color: white;}#sk-container-id-3 label.sk-toggleable__label {cursor: pointer;display: block;width: 100%;margin-bottom: 0;padding: 0.3em;box-sizing: border-box;text-align: center;}#sk-container-id-3 label.sk-toggleable__label-arrow:before {content: \"▸\";float: left;margin-right: 0.25em;color: #696969;}#sk-container-id-3 label.sk-toggleable__label-arrow:hover:before {color: black;}#sk-container-id-3 div.sk-estimator:hover label.sk-toggleable__label-arrow:before {color: black;}#sk-container-id-3 div.sk-toggleable__content {max-height: 0;max-width: 0;overflow: hidden;text-align: left;background-color: #f0f8ff;}#sk-container-id-3 div.sk-toggleable__content pre {margin: 0.2em;color: black;border-radius: 0.25em;background-color: #f0f8ff;}#sk-container-id-3 input.sk-toggleable__control:checked~div.sk-toggleable__content {max-height: 200px;max-width: 100%;overflow: auto;}#sk-container-id-3 input.sk-toggleable__control:checked~label.sk-toggleable__label-arrow:before {content: \"▾\";}#sk-container-id-3 div.sk-estimator input.sk-toggleable__control:checked~label.sk-toggleable__label {background-color: #d4ebff;}#sk-container-id-3 div.sk-label input.sk-toggleable__control:checked~label.sk-toggleable__label {background-color: #d4ebff;}#sk-container-id-3 input.sk-hidden--visually {border: 0;clip: rect(1px 1px 1px 1px);clip: rect(1px, 1px, 1px, 1px);height: 1px;margin: -1px;overflow: hidden;padding: 0;position: absolute;width: 1px;}#sk-container-id-3 div.sk-estimator {font-family: monospace;background-color: #f0f8ff;border: 1px dotted black;border-radius: 0.25em;box-sizing: border-box;margin-bottom: 0.5em;}#sk-container-id-3 div.sk-estimator:hover {background-color: #d4ebff;}#sk-container-id-3 div.sk-parallel-item::after {content: \"\";width: 100%;border-bottom: 1px solid gray;flex-grow: 1;}#sk-container-id-3 div.sk-label:hover label.sk-toggleable__label {background-color: #d4ebff;}#sk-container-id-3 div.sk-serial::before {content: \"\";position: absolute;border-left: 1px solid gray;box-sizing: border-box;top: 0;bottom: 0;left: 50%;z-index: 0;}#sk-container-id-3 div.sk-serial {display: flex;flex-direction: column;align-items: center;background-color: white;padding-right: 0.2em;padding-left: 0.2em;position: relative;}#sk-container-id-3 div.sk-item {position: relative;z-index: 1;}#sk-container-id-3 div.sk-parallel {display: flex;align-items: stretch;justify-content: center;background-color: white;position: relative;}#sk-container-id-3 div.sk-item::before, #sk-container-id-3 div.sk-parallel-item::before {content: \"\";position: absolute;border-left: 1px solid gray;box-sizing: border-box;top: 0;bottom: 0;left: 50%;z-index: -1;}#sk-container-id-3 div.sk-parallel-item {display: flex;flex-direction: column;z-index: 1;position: relative;background-color: white;}#sk-container-id-3 div.sk-parallel-item:first-child::after {align-self: flex-end;width: 50%;}#sk-container-id-3 div.sk-parallel-item:last-child::after {align-self: flex-start;width: 50%;}#sk-container-id-3 div.sk-parallel-item:only-child::after {width: 0;}#sk-container-id-3 div.sk-dashed-wrapped {border: 1px dashed gray;margin: 0 0.4em 0.5em 0.4em;box-sizing: border-box;padding-bottom: 0.4em;background-color: white;}#sk-container-id-3 div.sk-label label {font-family: monospace;font-weight: bold;display: inline-block;line-height: 1.2em;}#sk-container-id-3 div.sk-label-container {text-align: center;}#sk-container-id-3 div.sk-container {/* jupyter's `normalize.less` sets `[hidden] { display: none; }` but bootstrap.min.css set `[hidden] { display: none !important; }` so we also need the `!important` here to be able to override the default hidden behavior on the sphinx rendered scikit-learn.org. See: https://github.com/scikit-learn/scikit-learn/issues/21755 */display: inline-block !important;position: relative;}#sk-container-id-3 div.sk-text-repr-fallback {display: none;}</style><div id=\"sk-container-id-3\" class=\"sk-top-container\"><div class=\"sk-text-repr-fallback\"><pre>KNeighborsClassifier()</pre><b>In a Jupyter environment, please rerun this cell to show the HTML representation or trust the notebook. <br />On GitHub, the HTML representation is unable to render, please try loading this page with nbviewer.org.</b></div><div class=\"sk-container\" hidden><div class=\"sk-item\"><div class=\"sk-estimator sk-toggleable\"><input class=\"sk-toggleable__control sk-hidden--visually\" id=\"sk-estimator-id-3\" type=\"checkbox\" checked><label for=\"sk-estimator-id-3\" class=\"sk-toggleable__label sk-toggleable__label-arrow\">KNeighborsClassifier</label><div class=\"sk-toggleable__content\"><pre>KNeighborsClassifier()</pre></div></div></div></div></div>"
      ],
      "text/plain": [
       "KNeighborsClassifier()"
      ]
     },
     "execution_count": 34,
     "metadata": {},
     "output_type": "execute_result"
    }
   ],
   "source": [
    "clasif = KNeighborsClassifier(n_neighbors=5)\n",
    "clasif.fit(X, train['category'])\n",
    "clasif"
   ]
  },
  {
   "cell_type": "markdown",
   "id": "b4993183-27ed-4154-9080-1503b633d55c",
   "metadata": {},
   "source": [
    "Now we vecotrize the test data, just like above but we call `transform()`"
   ]
  },
  {
   "cell_type": "code",
   "execution_count": 75,
   "id": "757eace8-3055-4e59-a785-bc9e12ac3672",
   "metadata": {},
   "outputs": [
    {
     "data": {
      "text/plain": [
       "<47265x15059 sparse matrix of type '<class 'numpy.float64'>'\n",
       "\twith 614093 stored elements in Compressed Sparse Row format>"
      ]
     },
     "execution_count": 75,
     "metadata": {},
     "output_type": "execute_result"
    }
   ],
   "source": [
    "X_test = vect.transform(test['text'])\n",
    "X_test"
   ]
  },
  {
   "cell_type": "markdown",
   "id": "7837d133-4e92-453f-89a4-b9acd509cb4b",
   "metadata": {},
   "source": [
    "Now let's get some predictions from it, this might take a few minutes to run"
   ]
  },
  {
   "cell_type": "code",
   "execution_count": 36,
   "id": "a9b8310b-82b7-42d7-9ba7-12d087a4a81c",
   "metadata": {},
   "outputs": [],
   "source": [
    "test_results = clasif.predict(X_test)"
   ]
  },
  {
   "cell_type": "code",
   "execution_count": 37,
   "id": "9ca14e14-2fa8-4a64-8975-ed44e996bdfa",
   "metadata": {},
   "outputs": [
    {
     "name": "stdout",
     "output_type": "stream",
     "text": [
      "predicted=1, actual=1, text='when did sanjay hegde became wellwisher for bjp and modi please give your precious advice your malik sonia and pappu '\n",
      "predicted=0, actual=0, text='\\ntalking the strict laws crack down heavily the corrupt modi says that made law for the fugitives wherever the world they hide their money can confiscated the law taking its course with the extradition fugitives now via '\n",
      "predicted=1, actual=0, text='modi era tax collection made almost doublealso another income gov was petrol diesel taxcentral increased 100 even though our debts double dont use bad words then will leave would like healthy discussion hope may understand what meant22'\n",
      "predicted=1, actual=1, text='kuch kare yai log iam 200 confident that modi get majority mark point  '\n",
      "predicted=1, actual=1, text='need not required react brain child ideas which will appear more once elections nearing coming days may come with strategys wipe out pakistan world map once they came power reply modi surgical strike '\n",
      "predicted=1, actual=1, text='dear sir you also address modi only then looks you are also modi lehar man like you holding position upper most delhi govt talks with logic scares more'\n",
      "predicted=1, actual=1, text='modi jee bhi bade bade kaam kiye hai uska unbiased link share kar bhai walo link share mat karna bhai please\\ngovernment data best hoga\\nlike rbi says 9993 money returns bank\\ncmie says unemployment years high aisa kuch'\n",
      "predicted=1, actual=1, text='you are entitled for your opinion sir salute your dad grand dad and great grand dad but reason salute you salute sri modi for his courage and dedication take care'\n",
      "predicted=1, actual=1, text='kanhaiya has substance tejasvi has air like modi tejasvi you cant block the media and the public talk about how yuck worthy your thoughts wereare'\n",
      "predicted=1, actual=1, text='this definitely needs more guts than wearing janavu only modi has stood against china see testimony congress man does not have anything with modi\\n'\n"
     ]
    }
   ],
   "source": [
    "number = 0\n",
    "for predicted, actual, text in zip(test_results, test['category'], test['text']):\n",
    "    print(f\"{predicted=}, {actual=}, {text=}\")\n",
    "    number+=1 \n",
    "    if number == 10:\n",
    "        break"
   ]
  },
  {
   "cell_type": "code",
   "execution_count": 38,
   "id": "ec6d60bd-9172-4f35-82d4-58bcbaea3be5",
   "metadata": {},
   "outputs": [
    {
     "data": {
      "text/plain": [
       "<sklearn.metrics._plot.confusion_matrix.ConfusionMatrixDisplay at 0x7fa0f22adbe0>"
      ]
     },
     "execution_count": 38,
     "metadata": {},
     "output_type": "execute_result"
    },
    {
     "data": {
      "image/png": "[encoded data removed]",
      "text/plain": [
       "<Figure size 432x288 with 2 Axes>"
      ]
     },
     "metadata": {
      "needs_background": "light"
     },
     "output_type": "display_data"
    }
   ],
   "source": [
    "from sklearn.metrics import confusion_matrix, ConfusionMatrixDisplay\n",
    "\n",
    "y_true = test['category']\n",
    "y_pred = test_results\n",
    "\n",
    "cm = confusion_matrix(y_true, y_pred)\n",
    "disp = ConfusionMatrixDisplay(confusion_matrix=cm,\n",
    "                               display_labels=clasif.classes_)\n",
    "disp.plot()"
   ]
  },
  {
   "cell_type": "markdown",
   "id": "96950f88-ac4a-4c64-a07b-e016c76a981e",
   "metadata": {},
   "source": [
    "According to the confusion matrix above, it looks like we are getting a lot of false positives. Let's see we can optimize the model with hyper paramter tuning"
   ]
  },
  {
   "cell_type": "markdown",
   "id": "32ecf671-8338-4ad4-a583-bfabfbaa6486",
   "metadata": {},
   "source": [
    "first, let's consolidate the above code into a `Pipeline` object"
   ]
  },
  {
   "cell_type": "code",
   "execution_count": 62,
   "id": "784d3d63-ba10-4e2b-9c9f-061b24cfe2f0",
   "metadata": {},
   "outputs": [],
   "source": [
    "from sklearn.pipeline import Pipeline\n",
    "\n",
    "\n",
    "pipe = Pipeline(\n",
    "    [\n",
    "        ('vect', TfidfVectorizer()),\n",
    "        ('clf', KNeighborsClassifier())\n",
    "        \n",
    "    ]\n",
    ")\n",
    "\n",
    "parameter_grid = {\n",
    "    \"vect__max_df\": (0.2, 0.4, 0.6, 0.8, 1.0),\n",
    "    \"vect__min_df\": (1, 3, 5, 10),\n",
    "    \"vect__ngram_range\": ((1, 1), (1, 2)),  # unigrams or bigrams\n",
    "    \"vect__norm\": (\"l1\", \"l2\"),\n",
    "    \"vect__stop_words\":([\"english\"]),\n",
    "    \"clf__n_neighbors\":(2,3,5,7,8)\n",
    "}"
   ]
  },
  {
   "cell_type": "code",
   "execution_count": 64,
   "id": "17ae27f1-5ef8-4b0d-8cc5-5fd42a821126",
   "metadata": {},
   "outputs": [
    {
     "name": "stdout",
     "output_type": "stream",
     "text": [
      "Fitting 5 folds for each of 10 candidates, totalling 50 fits\n"
     ]
    },
    {
     "data": {
      "text/html": [
       "<style>#sk-container-id-4 {color: black;background-color: white;}#sk-container-id-4 pre{padding: 0;}#sk-container-id-4 div.sk-toggleable {background-color: white;}#sk-container-id-4 label.sk-toggleable__label {cursor: pointer;display: block;width: 100%;margin-bottom: 0;padding: 0.3em;box-sizing: border-box;text-align: center;}#sk-container-id-4 label.sk-toggleable__label-arrow:before {content: \"▸\";float: left;margin-right: 0.25em;color: #696969;}#sk-container-id-4 label.sk-toggleable__label-arrow:hover:before {color: black;}#sk-container-id-4 div.sk-estimator:hover label.sk-toggleable__label-arrow:before {color: black;}#sk-container-id-4 div.sk-toggleable__content {max-height: 0;max-width: 0;overflow: hidden;text-align: left;background-color: #f0f8ff;}#sk-container-id-4 div.sk-toggleable__content pre {margin: 0.2em;color: black;border-radius: 0.25em;background-color: #f0f8ff;}#sk-container-id-4 input.sk-toggleable__control:checked~div.sk-toggleable__content {max-height: 200px;max-width: 100%;overflow: auto;}#sk-container-id-4 input.sk-toggleable__control:checked~label.sk-toggleable__label-arrow:before {content: \"▾\";}#sk-container-id-4 div.sk-estimator input.sk-toggleable__control:checked~label.sk-toggleable__label {background-color: #d4ebff;}#sk-container-id-4 div.sk-label input.sk-toggleable__control:checked~label.sk-toggleable__label {background-color: #d4ebff;}#sk-container-id-4 input.sk-hidden--visually {border: 0;clip: rect(1px 1px 1px 1px);clip: rect(1px, 1px, 1px, 1px);height: 1px;margin: -1px;overflow: hidden;padding: 0;position: absolute;width: 1px;}#sk-container-id-4 div.sk-estimator {font-family: monospace;background-color: #f0f8ff;border: 1px dotted black;border-radius: 0.25em;box-sizing: border-box;margin-bottom: 0.5em;}#sk-container-id-4 div.sk-estimator:hover {background-color: #d4ebff;}#sk-container-id-4 div.sk-parallel-item::after {content: \"\";width: 100%;border-bottom: 1px solid gray;flex-grow: 1;}#sk-container-id-4 div.sk-label:hover label.sk-toggleable__label {background-color: #d4ebff;}#sk-container-id-4 div.sk-serial::before {content: \"\";position: absolute;border-left: 1px solid gray;box-sizing: border-box;top: 0;bottom: 0;left: 50%;z-index: 0;}#sk-container-id-4 div.sk-serial {display: flex;flex-direction: column;align-items: center;background-color: white;padding-right: 0.2em;padding-left: 0.2em;position: relative;}#sk-container-id-4 div.sk-item {position: relative;z-index: 1;}#sk-container-id-4 div.sk-parallel {display: flex;align-items: stretch;justify-content: center;background-color: white;position: relative;}#sk-container-id-4 div.sk-item::before, #sk-container-id-4 div.sk-parallel-item::before {content: \"\";position: absolute;border-left: 1px solid gray;box-sizing: border-box;top: 0;bottom: 0;left: 50%;z-index: -1;}#sk-container-id-4 div.sk-parallel-item {display: flex;flex-direction: column;z-index: 1;position: relative;background-color: white;}#sk-container-id-4 div.sk-parallel-item:first-child::after {align-self: flex-end;width: 50%;}#sk-container-id-4 div.sk-parallel-item:last-child::after {align-self: flex-start;width: 50%;}#sk-container-id-4 div.sk-parallel-item:only-child::after {width: 0;}#sk-container-id-4 div.sk-dashed-wrapped {border: 1px dashed gray;margin: 0 0.4em 0.5em 0.4em;box-sizing: border-box;padding-bottom: 0.4em;background-color: white;}#sk-container-id-4 div.sk-label label {font-family: monospace;font-weight: bold;display: inline-block;line-height: 1.2em;}#sk-container-id-4 div.sk-label-container {text-align: center;}#sk-container-id-4 div.sk-container {/* jupyter's `normalize.less` sets `[hidden] { display: none; }` but bootstrap.min.css set `[hidden] { display: none !important; }` so we also need the `!important` here to be able to override the default hidden behavior on the sphinx rendered scikit-learn.org. See: https://github.com/scikit-learn/scikit-learn/issues/21755 */display: inline-block !important;position: relative;}#sk-container-id-4 div.sk-text-repr-fallback {display: none;}</style><div id=\"sk-container-id-4\" class=\"sk-top-container\"><div class=\"sk-text-repr-fallback\"><pre>RandomizedSearchCV(estimator=Pipeline(steps=[(&#x27;vect&#x27;, TfidfVectorizer()),\n",
       "                                             (&#x27;clf&#x27;, KNeighborsClassifier())]),\n",
       "                   n_jobs=2,\n",
       "                   param_distributions={&#x27;clf__n_neighbors&#x27;: (2, 3, 5, 7, 8),\n",
       "                                        &#x27;vect__max_df&#x27;: (0.2, 0.4, 0.6, 0.8,\n",
       "                                                         1.0),\n",
       "                                        &#x27;vect__min_df&#x27;: (1, 3, 5, 10),\n",
       "                                        &#x27;vect__ngram_range&#x27;: ((1, 1), (1, 2)),\n",
       "                                        &#x27;vect__norm&#x27;: (&#x27;l1&#x27;, &#x27;l2&#x27;),\n",
       "                                        &#x27;vect__stop_words&#x27;: [&#x27;english&#x27;]},\n",
       "                   verbose=1)</pre><b>In a Jupyter environment, please rerun this cell to show the HTML representation or trust the notebook. <br />On GitHub, the HTML representation is unable to render, please try loading this page with nbviewer.org.</b></div><div class=\"sk-container\" hidden><div class=\"sk-item sk-dashed-wrapped\"><div class=\"sk-label-container\"><div class=\"sk-label sk-toggleable\"><input class=\"sk-toggleable__control sk-hidden--visually\" id=\"sk-estimator-id-4\" type=\"checkbox\" ><label for=\"sk-estimator-id-4\" class=\"sk-toggleable__label sk-toggleable__label-arrow\">RandomizedSearchCV</label><div class=\"sk-toggleable__content\"><pre>RandomizedSearchCV(estimator=Pipeline(steps=[(&#x27;vect&#x27;, TfidfVectorizer()),\n",
       "                                             (&#x27;clf&#x27;, KNeighborsClassifier())]),\n",
       "                   n_jobs=2,\n",
       "                   param_distributions={&#x27;clf__n_neighbors&#x27;: (2, 3, 5, 7, 8),\n",
       "                                        &#x27;vect__max_df&#x27;: (0.2, 0.4, 0.6, 0.8,\n",
       "                                                         1.0),\n",
       "                                        &#x27;vect__min_df&#x27;: (1, 3, 5, 10),\n",
       "                                        &#x27;vect__ngram_range&#x27;: ((1, 1), (1, 2)),\n",
       "                                        &#x27;vect__norm&#x27;: (&#x27;l1&#x27;, &#x27;l2&#x27;),\n",
       "                                        &#x27;vect__stop_words&#x27;: [&#x27;english&#x27;]},\n",
       "                   verbose=1)</pre></div></div></div><div class=\"sk-parallel\"><div class=\"sk-parallel-item\"><div class=\"sk-item\"><div class=\"sk-label-container\"><div class=\"sk-label sk-toggleable\"><input class=\"sk-toggleable__control sk-hidden--visually\" id=\"sk-estimator-id-5\" type=\"checkbox\" ><label for=\"sk-estimator-id-5\" class=\"sk-toggleable__label sk-toggleable__label-arrow\">estimator: Pipeline</label><div class=\"sk-toggleable__content\"><pre>Pipeline(steps=[(&#x27;vect&#x27;, TfidfVectorizer()), (&#x27;clf&#x27;, KNeighborsClassifier())])</pre></div></div></div><div class=\"sk-serial\"><div class=\"sk-item\"><div class=\"sk-serial\"><div class=\"sk-item\"><div class=\"sk-estimator sk-toggleable\"><input class=\"sk-toggleable__control sk-hidden--visually\" id=\"sk-estimator-id-6\" type=\"checkbox\" ><label for=\"sk-estimator-id-6\" class=\"sk-toggleable__label sk-toggleable__label-arrow\">TfidfVectorizer</label><div class=\"sk-toggleable__content\"><pre>TfidfVectorizer()</pre></div></div></div><div class=\"sk-item\"><div class=\"sk-estimator sk-toggleable\"><input class=\"sk-toggleable__control sk-hidden--visually\" id=\"sk-estimator-id-7\" type=\"checkbox\" ><label for=\"sk-estimator-id-7\" class=\"sk-toggleable__label sk-toggleable__label-arrow\">KNeighborsClassifier</label><div class=\"sk-toggleable__content\"><pre>KNeighborsClassifier()</pre></div></div></div></div></div></div></div></div></div></div></div></div>"
      ],
      "text/plain": [
       "RandomizedSearchCV(estimator=Pipeline(steps=[('vect', TfidfVectorizer()),\n",
       "                                             ('clf', KNeighborsClassifier())]),\n",
       "                   n_jobs=2,\n",
       "                   param_distributions={'clf__n_neighbors': (2, 3, 5, 7, 8),\n",
       "                                        'vect__max_df': (0.2, 0.4, 0.6, 0.8,\n",
       "                                                         1.0),\n",
       "                                        'vect__min_df': (1, 3, 5, 10),\n",
       "                                        'vect__ngram_range': ((1, 1), (1, 2)),\n",
       "                                        'vect__norm': ('l1', 'l2'),\n",
       "                                        'vect__stop_words': ['english']},\n",
       "                   verbose=1)"
      ]
     },
     "execution_count": 64,
     "metadata": {},
     "output_type": "execute_result"
    }
   ],
   "source": [
    "grid = RandomizedSearchCV(    \n",
    "    estimator=pipe,\n",
    "    param_distributions=parameter_grid,\n",
    "    n_jobs=2,\n",
    "    verbose=1)\n",
    "grid.fit(train['text'], train['category'])"
   ]
  },
  {
   "cell_type": "code",
   "execution_count": 72,
   "id": "a590796c-5553-4da8-bcc4-8d7a3ebf5c5c",
   "metadata": {},
   "outputs": [
    {
     "data": {
      "text/plain": [
       "{'vect__stop_words': 'english',\n",
       " 'vect__norm': 'l2',\n",
       " 'vect__ngram_range': (1, 2),\n",
       " 'vect__min_df': 5,\n",
       " 'vect__max_df': 0.8,\n",
       " 'clf__n_neighbors': 3}"
      ]
     },
     "execution_count": 72,
     "metadata": {},
     "output_type": "execute_result"
    }
   ],
   "source": [
    "grid.best_params_"
   ]
  },
  {
   "cell_type": "code",
   "execution_count": 70,
   "id": "23084c6a-2be5-4d01-ae6b-413b63ab554b",
   "metadata": {},
   "outputs": [],
   "source": [
    "best_model = grid.best_estimator_"
   ]
  },
  {
   "cell_type": "code",
   "execution_count": 83,
   "id": "0656adde-48c2-4a24-b9cb-6676ba550423",
   "metadata": {},
   "outputs": [
    {
     "data": {
      "text/plain": [
       "array([0])"
      ]
     },
     "execution_count": 83,
     "metadata": {},
     "output_type": "execute_result"
    }
   ],
   "source": [
    "best_model.predict([\"\"])"
   ]
  },
  {
   "cell_type": "markdown",
   "id": "b5f37a03-4f6b-4448-b68b-a44cf91633e3",
   "metadata": {},
   "source": [
    "let's remake the confusion matrix and see how these paramters compare to our hand rolled parameters"
   ]
  },
  {
   "cell_type": "code",
   "execution_count": 77,
   "id": "94920d29-b5f7-4f53-90e9-a94041c6a4a0",
   "metadata": {},
   "outputs": [
    {
     "data": {
      "text/plain": [
       "<sklearn.metrics._plot.confusion_matrix.ConfusionMatrixDisplay at 0x7fa11467cee0>"
      ]
     },
     "execution_count": 77,
     "metadata": {},
     "output_type": "execute_result"
    },
    {
     "data": {
      "image/png": "[encoded data removed]",
      "text/plain": [
       "<Figure size 432x288 with 2 Axes>"
      ]
     },
     "metadata": {
      "needs_background": "light"
     },
     "output_type": "display_data"
    }
   ],
   "source": [
    "new_test_results = best_model.predict(test['text']) ## we can pass in raw text here becuase of our Pipeline\n",
    "y_true = test['category']\n",
    "y_pred = new_test_results\n",
    "\n",
    "cm = confusion_matrix(y_true, y_pred)\n",
    "disp = ConfusionMatrixDisplay(confusion_matrix=cm,\n",
    "                               display_labels=clasif.classes_)\n",
    "disp.plot()"
   ]
  },
  {
   "cell_type": "code",
   "execution_count": 78,
   "id": "e40d1426-3672-4a66-acac-b0cf4dff8203",
   "metadata": {},
   "outputs": [
    {
     "data": {
      "text/plain": [
       "47265"
      ]
     },
     "execution_count": 78,
     "metadata": {},
     "output_type": "execute_result"
    }
   ],
   "source": [
    "len(test['text'])"
   ]
  },
  {
   "cell_type": "code",
   "execution_count": 80,
   "id": "455557a9-5418-4ae8-82d8-80e8c2f33817",
   "metadata": {},
   "outputs": [
    {
     "data": {
      "text/plain": [
       "(0.7062831293655532, 0.6957791177403999, 0.6211350462202687, None)"
      ]
     },
     "execution_count": 80,
     "metadata": {},
     "output_type": "execute_result"
    }
   ],
   "source": [
    "from sklearn.metrics import precision_recall_fscore_support\n",
    "\n",
    "scores = precision_recall_fscore_support(y_true, y_pred, average='weighted')\n",
    "scores"
   ]
  },
  {
   "cell_type": "markdown",
   "id": "a2748ac9-8108-452e-806f-3d4bb7af0713",
   "metadata": {},
   "source": [
    "not really sure how accurate this is going to be, 0.62 does not seem like a great f1 score."
   ]
  },
  {
   "cell_type": "code",
   "execution_count": 88,
   "id": "44cfe1a0-381d-4412-ba8b-5d995c8e57ef",
   "metadata": {},
   "outputs": [
    {
     "data": {
      "text/plain": [
       "['model_1.joblib']"
      ]
     },
     "execution_count": 88,
     "metadata": {},
     "output_type": "execute_result"
    }
   ],
   "source": [
    "from joblib import dump\n",
    "dump(best_model, 'model_1.joblib')"
   ]
  },
  {
   "cell_type": "code",
   "execution_count": null,
   "id": "9cf6aebc-b88a-4353-a749-422c406a62a3",
   "metadata": {},
   "outputs": [],
   "source": []
  }
 ],
 "metadata": {
  "kernelspec": {
   "display_name": "Python 3 (ipykernel)",
   "language": "python",
   "name": "python3"
  },
  "language_info": {
   "codemirror_mode": {
    "name": "ipython",
    "version": 3
   },
   "file_extension": ".py",
   "mimetype": "text/x-python",
   "name": "python",
   "nbconvert_exporter": "python",
   "pygments_lexer": "ipython3",
   "version": "3.8.12"
  }
 },
 "nbformat": 4,
 "nbformat_minor": 5
}
